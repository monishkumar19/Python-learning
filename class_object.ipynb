{
 "cells": [
  {
   "cell_type": "code",
   "execution_count": 2,
   "id": "c5fa4136",
   "metadata": {},
   "outputs": [
    {
     "name": "stdout",
     "output_type": "stream",
     "text": [
      "Lets enjoy the four year city life with different culture!\n"
     ]
    }
   ],
   "source": [
    "#1. creating class\n",
    "class amrita:\n",
    "    # class has many variable and many methods (functions)\n",
    "    department = ''\n",
    "    \n",
    "    #for any by default i should have self - keyword\n",
    "    def enjoyment(self):\n",
    "        print('Lets enjoy the four year city life with different culture!')\n",
    "        \n",
    "    def life(self):\n",
    "        print('Lets study hard for the betterment of life!')\n",
    "\n",
    "#2. Creating as many objects as per the requirement \n",
    "student1 = amrita()\n",
    "student2 = amrita()\n",
    "\n",
    "#3. how to access any methods that is defined inside any classes\n",
    "student1.enjoyment()"
   ]
  },
  {
   "cell_type": "code",
   "execution_count": 3,
   "id": "0cc9c9ca",
   "metadata": {},
   "outputs": [
    {
     "name": "stdout",
     "output_type": "stream",
     "text": [
      "Lets enjoy the four year city life with different culture!\n"
     ]
    }
   ],
   "source": [
    "student2.enjoyment()"
   ]
  },
  {
   "cell_type": "code",
   "execution_count": 4,
   "id": "7a694ae8",
   "metadata": {},
   "outputs": [
    {
     "name": "stdout",
     "output_type": "stream",
     "text": [
      "Lets study hard for the betterment of life!\n"
     ]
    }
   ],
   "source": [
    "student1.life()"
   ]
  },
  {
   "cell_type": "code",
   "execution_count": 5,
   "id": "8ea1bc92",
   "metadata": {},
   "outputs": [
    {
     "name": "stdout",
     "output_type": "stream",
     "text": [
      "Lets study hard for the betterment of life!\n"
     ]
    }
   ],
   "source": [
    "student2.life()"
   ]
  },
  {
   "cell_type": "markdown",
   "id": "5131af0b",
   "metadata": {},
   "source": [
    "## Class and Object - How to access"
   ]
  },
  {
   "cell_type": "code",
   "execution_count": 6,
   "id": "e3ec344c",
   "metadata": {},
   "outputs": [],
   "source": [
    "class amrita:\n",
    "    # class has many variable and many methods (functions)\n",
    "    name = 'Amritian'\n",
    "    department = 'Any department'\n",
    "    \n",
    "    #for any by default i should have self - keyword\n",
    "    def enjoyment(self):\n",
    "        print('Lets enjoy the four year city life with different culture!')\n",
    "        \n",
    "    def life(self):\n",
    "        print('Lets study hard for the betterment of life!')"
   ]
  },
  {
   "cell_type": "code",
   "execution_count": 7,
   "id": "3e449f2a",
   "metadata": {},
   "outputs": [],
   "source": [
    "student1 = amrita()\n",
    "student2 = amrita()"
   ]
  },
  {
   "cell_type": "code",
   "execution_count": 9,
   "id": "66ce660d",
   "metadata": {},
   "outputs": [
    {
     "name": "stdout",
     "output_type": "stream",
     "text": [
      "Amritian\n",
      "Any department\n",
      "Amritian\n",
      "Any department\n"
     ]
    }
   ],
   "source": [
    "print(student1.name)\n",
    "print(student1.department)\n",
    "print(student2.name)\n",
    "print(student2.department)"
   ]
  },
  {
   "cell_type": "code",
   "execution_count": 10,
   "id": "806a17ad",
   "metadata": {},
   "outputs": [],
   "source": [
    "student1.name = 'Prem'\n",
    "student2.name = 'Anand'\n",
    "student1.department ='ECE'\n",
    "student2.department = 'CSE'"
   ]
  },
  {
   "cell_type": "code",
   "execution_count": 11,
   "id": "a9b0d935",
   "metadata": {},
   "outputs": [
    {
     "name": "stdout",
     "output_type": "stream",
     "text": [
      "Prem\n",
      "ECE\n",
      "Anand\n",
      "CSE\n"
     ]
    }
   ],
   "source": [
    "print(student1.name)\n",
    "print(student1.department)\n",
    "print(student2.name)\n",
    "print(student2.department)"
   ]
  },
  {
   "cell_type": "code",
   "execution_count": 12,
   "id": "327d8ed5",
   "metadata": {},
   "outputs": [
    {
     "name": "stdout",
     "output_type": "stream",
     "text": [
      "55000\n",
      "AMD Ryzen 8 5600H with Radeon Graphics - 2.90 GHz\n",
      "16 GB\n"
     ]
    }
   ],
   "source": [
    "# create a class called laptop and create a following variable and functions. Variables - price, RAM and processor. create a\n",
    "# objects as HP, Asus and DELL.\n",
    "class laptop:\n",
    "    price = 0\n",
    "    processor = ''\n",
    "    RAM = ''\n",
    "    \n",
    "hp = laptop()\n",
    "asus = laptop()\n",
    "dell = laptop()\n",
    "\n",
    "hp.price = 55000\n",
    "hp.processor = 'AMD Ryzen 7 4800H with Radeon Graphics - 2.90 GHz'\n",
    "hp.RAM = '16 GB'\n",
    "\n",
    "asus.price = 75000\n",
    "asus.processor = 'AMD Ryzen 8 5600H with Radeon Graphics - 2.90 GHz'\n",
    "asus.RAM = '32 GB'\n",
    "\n",
    "dell.price = 55000\n",
    "dell.processor = 'AMD Ryzen 7 4800H with Radeon Graphics - 2.90 GHz'\n",
    "dell.RAM = '16 GB'\n",
    "\n",
    "print(hp.price)\n",
    "print(asus.processor)\n",
    "print(dell.RAM)"
   ]
  },
  {
   "cell_type": "code",
   "execution_count": 13,
   "id": "43887483",
   "metadata": {},
   "outputs": [],
   "source": [
    "#create a class called kodaikanal and create all possible variable and functions"
   ]
  },
  {
   "cell_type": "markdown",
   "id": "ee6faf21",
   "metadata": {},
   "source": [
    "## Constructor and Keywords"
   ]
  },
  {
   "cell_type": "code",
   "execution_count": 15,
   "id": "8856e245",
   "metadata": {},
   "outputs": [
    {
     "name": "stdout",
     "output_type": "stream",
     "text": [
      "Hello world!\n"
     ]
    }
   ],
   "source": [
    "class laptop:\n",
    "    def display(self):\n",
    "        print('Hello world!')\n",
    "        \n",
    "asus = laptop()\n",
    "asus.display()"
   ]
  },
  {
   "cell_type": "code",
   "execution_count": 16,
   "id": "44fe4e51",
   "metadata": {},
   "outputs": [
    {
     "name": "stdout",
     "output_type": "stream",
     "text": [
      "You will see me!\n"
     ]
    }
   ],
   "source": [
    "class laptop:\n",
    "    def __init__(self):\n",
    "        print('You will see me!')\n",
    "        \n",
    "    def display(self):\n",
    "        print('Hello world!')\n",
    "        \n",
    "asus = laptop()"
   ]
  },
  {
   "cell_type": "code",
   "execution_count": 17,
   "id": "12d5141c",
   "metadata": {},
   "outputs": [
    {
     "name": "stdout",
     "output_type": "stream",
     "text": [
      "You will see me!\n",
      "Hello world!\n"
     ]
    }
   ],
   "source": [
    "class laptop:\n",
    "    def __init__(self):\n",
    "        print('You will see me!')\n",
    "        \n",
    "    def display(self):\n",
    "        print('Hello world!')\n",
    "        \n",
    "asus = laptop()\n",
    "asus.display()"
   ]
  },
  {
   "cell_type": "code",
   "execution_count": 18,
   "id": "76b78b22",
   "metadata": {},
   "outputs": [],
   "source": [
    "class laptop:\n",
    "    def __init__(self):\n",
    "        self.price = 0\n",
    "        self.processor = ''\n",
    "        self.RAM = ''\n",
    "    \n",
    "    def display(self):\n",
    "        print('I am here to display!')\n",
    "        \n",
    "asus = laptop()"
   ]
  },
  {
   "cell_type": "code",
   "execution_count": 19,
   "id": "6cdd4460",
   "metadata": {},
   "outputs": [],
   "source": [
    "asus.price = 50000\n",
    "asus.processor = 'I7'\n",
    "asus.RAM = '16GB'"
   ]
  },
  {
   "cell_type": "code",
   "execution_count": 20,
   "id": "bd09b76b",
   "metadata": {},
   "outputs": [
    {
     "name": "stdout",
     "output_type": "stream",
     "text": [
      "50000\n",
      "I7\n",
      "16GB\n"
     ]
    }
   ],
   "source": [
    "print(asus.price)\n",
    "print(asus.processor)\n",
    "print(asus.RAM)"
   ]
  },
  {
   "cell_type": "code",
   "execution_count": 25,
   "id": "9447ff8f",
   "metadata": {},
   "outputs": [
    {
     "name": "stdout",
     "output_type": "stream",
     "text": [
      "50000\n",
      "I7\n",
      "16GB\n",
      "50000\n",
      "I7\n",
      "16GB\n"
     ]
    }
   ],
   "source": [
    "class laptop:\n",
    "    def __init__(self):\n",
    "        price = 0\n",
    "        processor = ''\n",
    "        RAM = ''\n",
    "    \n",
    "    def display(self):\n",
    "        print('I am here to display!')\n",
    "        \n",
    "asus = laptop()\n",
    "asus.price = 50000\n",
    "asus.processor = 'I7'\n",
    "asus.RAM = '16GB'\n",
    "print(asus.price)\n",
    "print(asus.processor)\n",
    "print(asus.RAM)\n",
    "\n",
    "\n",
    "hp = laptop()\n",
    "hp.price = 50000\n",
    "hp.processor = 'I7'\n",
    "hp.RAM = '16GB'\n",
    "print(hp.price)\n",
    "print(hp.processor)\n",
    "print(hp.RAM)"
   ]
  },
  {
   "cell_type": "markdown",
   "id": "0fa95965",
   "metadata": {},
   "source": [
    "## CLASS is used to use the SELF keyword to refere a particular / instant OBJECTs"
   ]
  },
  {
   "cell_type": "code",
   "execution_count": 26,
   "id": "19a08172",
   "metadata": {},
   "outputs": [
    {
     "name": "stdout",
     "output_type": "stream",
     "text": [
      "Name: ABCD\n",
      "Registration number: 12345\n"
     ]
    }
   ],
   "source": [
    "# create a class called student. create a variable - name and register number using constructor. create a function called\n",
    "# display which should display the name and register number of the student.\n",
    "\n",
    "class student:\n",
    "    def __init__(self):\n",
    "        self.name = 'ABCD'\n",
    "        self.regno = '12345'\n",
    "        \n",
    "    def display(self):\n",
    "        print('Name:', self.name)\n",
    "        print('Registration number:', self.regno)\n",
    "        \n",
    "student1 = student()\n",
    "\n",
    "student1.display()"
   ]
  },
  {
   "cell_type": "code",
   "execution_count": 27,
   "id": "2730f625",
   "metadata": {},
   "outputs": [
    {
     "name": "stdout",
     "output_type": "stream",
     "text": [
      "black\n"
     ]
    }
   ],
   "source": [
    "# create a class called FRUIT. create a variable called color using __init__ method. create a object called apple.\n",
    "# pass the color variable as a parameter through object\n",
    "class fruit:\n",
    "    def __init__(self):\n",
    "        self.color = 'black'\n",
    "        \n",
    "apple = fruit()\n",
    "print(apple.color)"
   ]
  },
  {
   "cell_type": "code",
   "execution_count": 28,
   "id": "4b66aa99",
   "metadata": {},
   "outputs": [
    {
     "ename": "TypeError",
     "evalue": "fruit.__init__() takes 1 positional argument but 2 were given",
     "output_type": "error",
     "traceback": [
      "\u001b[1;31m---------------------------------------------------------------------------\u001b[0m",
      "\u001b[1;31mTypeError\u001b[0m                                 Traceback (most recent call last)",
      "Cell \u001b[1;32mIn[28], line 5\u001b[0m\n\u001b[0;32m      2\u001b[0m     \u001b[38;5;28;01mdef\u001b[39;00m \u001b[38;5;21m__init__\u001b[39m(\u001b[38;5;28mself\u001b[39m):\n\u001b[0;32m      3\u001b[0m         \u001b[38;5;28mself\u001b[39m\u001b[38;5;241m.\u001b[39mcolor \u001b[38;5;241m=\u001b[39m \u001b[38;5;124m'\u001b[39m\u001b[38;5;124mblack\u001b[39m\u001b[38;5;124m'\u001b[39m\n\u001b[1;32m----> 5\u001b[0m apple \u001b[38;5;241m=\u001b[39m fruit(\u001b[38;5;124m'\u001b[39m\u001b[38;5;124mred\u001b[39m\u001b[38;5;124m'\u001b[39m)\n\u001b[0;32m      6\u001b[0m \u001b[38;5;28mprint\u001b[39m(apple\u001b[38;5;241m.\u001b[39mcolor)\n",
      "\u001b[1;31mTypeError\u001b[0m: fruit.__init__() takes 1 positional argument but 2 were given"
     ]
    }
   ],
   "source": [
    "class fruit:\n",
    "    def __init__(self):\n",
    "        self.color = 'black'\n",
    "        \n",
    "apple = fruit('red')\n",
    "print(apple.color)"
   ]
  },
  {
   "cell_type": "code",
   "execution_count": 29,
   "id": "acdb84e7",
   "metadata": {},
   "outputs": [
    {
     "name": "stdout",
     "output_type": "stream",
     "text": [
      "red\n"
     ]
    }
   ],
   "source": [
    "class fruit:\n",
    "    def __init__(self, col):\n",
    "        self.color = col\n",
    "        \n",
    "apple = fruit('red')\n",
    "print(apple.color)"
   ]
  },
  {
   "cell_type": "code",
   "execution_count": 33,
   "id": "f4421ac5",
   "metadata": {},
   "outputs": [
    {
     "name": "stdout",
     "output_type": "stream",
     "text": [
      "Name: Premanand\n",
      "Registration no: 12345\n",
      "Name: Anandprem\n",
      "Registration no: 98765\n"
     ]
    }
   ],
   "source": [
    "# create a class called teacher. create a variable - name and register number using constructor. create a function called\n",
    "# dispaly which should display the name and register number of the teacher. create T1 and T2 objects and pass the name and \n",
    "# register number value through object\n",
    "\n",
    "class teacher:\n",
    "    def __init__(self, name, regno):\n",
    "        self.name = name\n",
    "        self.regno = regno\n",
    "        \n",
    "    def display(self):\n",
    "        print('Name:', self.name)\n",
    "        print('Registration no:', self.regno)\n",
    "        \n",
    "t1 = teacher('Premanand', 12345)\n",
    "t2 = teacher('Anandprem', 98765)\n",
    "\n",
    "t1.display()\n",
    "t2.display()"
   ]
  },
  {
   "cell_type": "code",
   "execution_count": 31,
   "id": "7ad456e8",
   "metadata": {},
   "outputs": [],
   "source": [
    "# create a calculator class. create a two variables a and b. create a method called add, sub, mul and div. all the function \n",
    "# should take 2 variables as parameter. Pass a and b value through object"
   ]
  },
  {
   "cell_type": "code",
   "execution_count": null,
   "id": "458bf69e",
   "metadata": {},
   "outputs": [],
   "source": []
  }
 ],
 "metadata": {
  "kernelspec": {
   "display_name": "Python 3 (ipykernel)",
   "language": "python",
   "name": "python3"
  },
  "language_info": {
   "codemirror_mode": {
    "name": "ipython",
    "version": 3
   },
   "file_extension": ".py",
   "mimetype": "text/x-python",
   "name": "python",
   "nbconvert_exporter": "python",
   "pygments_lexer": "ipython3",
   "version": "3.11.5"
  }
 },
 "nbformat": 4,
 "nbformat_minor": 5
}
