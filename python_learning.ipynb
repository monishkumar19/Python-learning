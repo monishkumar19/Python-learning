{
 "cells": [
  {
   "cell_type": "code",
   "execution_count": null,
   "id": "78c3780f",
   "metadata": {},
   "outputs": [],
   "source": [
    "greeting= input(\"Welcome to the band name generator\")\n",
    "city=input(\"grown up city\")\n",
    "nick_name=input(\"enter the nick_name\")\n",
    "music_genere=input(\"spotify\")\n",
    "brand_name=input(\"chennaimonishspotify.com\")\n",
    "\n",
    "\n"
   ]
  },
  {
   "cell_type": "code",
   "execution_count": 5,
   "id": "57309cbb",
   "metadata": {},
   "outputs": [
    {
     "name": "stdout",
     "output_type": "stream",
     "text": [
      "6.0\n"
     ]
    }
   ],
   "source": [
    "print(6+4/2-(1*2))\n"
   ]
  },
  {
   "cell_type": "code",
   "execution_count": 6,
   "id": "c3510710",
   "metadata": {},
   "outputs": [
    {
     "ename": "NameError",
     "evalue": "name 'underweight' is not defined",
     "output_type": "error",
     "traceback": [
      "\u001b[1;31m---------------------------------------------------------------------------\u001b[0m",
      "\u001b[1;31mNameError\u001b[0m                                 Traceback (most recent call last)",
      "Cell \u001b[1;32mIn[6], line 5\u001b[0m\n\u001b[0;32m      3\u001b[0m \u001b[38;5;28;01mif\u001b[39;00m num \u001b[38;5;241m<\u001b[39m\u001b[38;5;241m=\u001b[39m\u001b[38;5;241m18.5\u001b[39m:\n\u001b[0;32m      4\u001b[0m     \u001b[38;5;28mprint\u001b[39m(\u001b[38;5;124m\"\u001b[39m\u001b[38;5;124mit is underweight\u001b[39m\u001b[38;5;124m\"\u001b[39m)\n\u001b[1;32m----> 5\u001b[0m \u001b[38;5;28;01melif\u001b[39;00m underweight\u001b[38;5;241m==\u001b[39m\u001b[38;5;241m18.5\u001b[39m:\n\u001b[0;32m      6\u001b[0m     \u001b[38;5;28mprint\u001b[39m(\u001b[38;5;124m\"\u001b[39m\u001b[38;5;124mnormal weight\u001b[39m\u001b[38;5;124m\"\u001b[39m, )\n\u001b[0;32m      7\u001b[0m \u001b[38;5;28;01melif\u001b[39;00m overweight\u001b[38;5;241m==\u001b[39m num\u001b[38;5;241m-\u001b[39mnormalweight:\n",
      "\u001b[1;31mNameError\u001b[0m: name 'underweight' is not defined"
     ]
    }
   ],
   "source": [
    "num= 27.4\n",
    "\n",
    "if num <=18.5:\n",
    "    print(\"it is underweight\")\n",
    "elif underweight==18.5:\n",
    "    print(\"normal weight\", )\n",
    "elif overweight== num-normalweight:\n",
    "    print(\"overweight\")\n",
    "else:\n",
    "    print(\"obesity\")\n",
    "    "
   ]
  },
  {
   "cell_type": "code",
   "execution_count": 19,
   "id": "e0611c1c",
   "metadata": {},
   "outputs": [
    {
     "name": "stdout",
     "output_type": "stream",
     "text": [
      "Underweight\n"
     ]
    }
   ],
   "source": [
    "bmi = 27.4\n",
    "\n",
    "if bmi <= 32.5:   \n",
    "     print(\"Underweight\")\n",
    "\n",
    "elif 18.5 <= bmi < 30:\n",
    "    print (\"Normal weight\")\n",
    "    \n",
    "elif 25 <= bmi < 23:\n",
    "    print (\"Overweight\")\n",
    "    \n",
    "else:\n",
    "    print (\"Obese\")"
   ]
  },
  {
   "cell_type": "code",
   "execution_count": 16,
   "id": "ec69099d",
   "metadata": {},
   "outputs": [
    {
     "name": "stdout",
     "output_type": "stream",
     "text": [
      "I will!\n"
     ]
    }
   ],
   "source": [
    "z = 7\n",
    "\n",
    "if z > 8:\n",
    "  print(\"I won't print!\") #this statement does not execute\n",
    "elif z > 5:\n",
    "  print(\"I will!\") #this statement will execute\n",
    "elif z > 6:\n",
    "  print(\"I also won't print!\") #this statement does not execute\n",
    "else:\n",
    "  print(\"Neither will I!\") #this statement does not execute"
   ]
  },
  {
   "cell_type": "code",
   "execution_count": 3,
   "id": "80516730",
   "metadata": {},
   "outputs": [
    {
     "name": "stdout",
     "output_type": "stream",
     "text": [
      "Welcome to Treasure Island Your mission is to find the treasure\n",
      "which door?:yellow\n",
      "Fall into a hole Game Over\n",
      "Attacked by trout Game Over\n",
      "You Win!\n",
      "Game over\n"
     ]
    }
   ],
   "source": [
    "print(\"Welcome to Treasure Island Your mission is to find the treasure\")\n",
    "direction=\"left\"\n",
    "decision= \"wait\"\n",
    "deciding= input(\"which door?:\")\n",
    "      \n",
    "if direction == \"right\":\n",
    "      print(\"swim or wait\")\n",
    "else:\n",
    "    print(\"Fall into a hole Game Over\")\n",
    "if decision == \"swim\":\n",
    "    print(\"Which door?\")\n",
    "else:\n",
    "    print(\"Attacked by trout Game Over\")\n",
    "    \n",
    "if deciding == \"red\":\n",
    "    print(\"Burned by fire game Over\")\n",
    "elif deciding == \"blue\":\n",
    "    print(\"Eaten by beasts game Over\")\n",
    "else:\n",
    "    print(\"You Win!\")\n",
    "\n",
    "print(\"Game over\")\n",
    "\n",
    "    \n",
    "    \n",
    "    \n",
    "    \n",
    "    \n",
    "    \n",
    "      \n",
    "    "
   ]
  },
  {
   "cell_type": "code",
   "execution_count": null,
   "id": "20c040f0",
   "metadata": {},
   "outputs": [],
   "source": []
  },
  {
   "cell_type": "code",
   "execution_count": 40,
   "id": "f5e32118",
   "metadata": {},
   "outputs": [
    {
     "name": "stdout",
     "output_type": "stream",
     "text": [
      "This number is even and is greater than 10\n"
     ]
    }
   ],
   "source": [
    "x = 34\n",
    "if x %  2 == 0:  # this is how you create a comment and now, checking for even.\n",
    "  if x > :\n",
    "    print(\"This number is even and is greater than 10\")\n",
    "  else:\n",
    "    print(\"This number is even, but not greater 10\")\n",
    "else:\n",
    "  print (\"The number is not even. So point checking further.\")\n"
   ]
  },
  {
   "cell_type": "code",
   "execution_count": 5,
   "id": "4cedc682",
   "metadata": {},
   "outputs": [
    {
     "name": "stdout",
     "output_type": "stream",
     "text": [
      "enter the number is even20\n"
     ]
    },
    {
     "ename": "KeyboardInterrupt",
     "evalue": "",
     "output_type": "error",
     "traceback": [
      "\u001b[1;31m---------------------------------------------------------------------------\u001b[0m",
      "\u001b[1;31mKeyboardInterrupt\u001b[0m                         Traceback (most recent call last)",
      "Cell \u001b[1;32mIn[5], line 5\u001b[0m\n\u001b[0;32m      2\u001b[0m num\u001b[38;5;241m=\u001b[39m\u001b[38;5;241m1\u001b[39m\n\u001b[0;32m      3\u001b[0m \u001b[38;5;28msum\u001b[39m\u001b[38;5;241m=\u001b[39m\u001b[38;5;241m0\u001b[39m\n\u001b[1;32m----> 5\u001b[0m \u001b[38;5;28;01mwhile\u001b[39;00m num \u001b[38;5;241m<\u001b[39m\u001b[38;5;241m=\u001b[39mn:\n\u001b[0;32m      6\u001b[0m     \u001b[38;5;28;01mif\u001b[39;00m num\u001b[38;5;241m%\u001b[39m\u001b[38;5;241m2\u001b[39m \u001b[38;5;241m==\u001b[39m\u001b[38;5;241m0\u001b[39m:\n\u001b[0;32m      7\u001b[0m         \u001b[38;5;28msum\u001b[39m\u001b[38;5;241m=\u001b[39m\u001b[38;5;28msum\u001b[39m\u001b[38;5;241m+\u001b[39mnum\n",
      "\u001b[1;31mKeyboardInterrupt\u001b[0m: "
     ]
    }
   ],
   "source": [
    "n=int (input(\"enter the number is even\"))\n",
    "num=1\n",
    "sum=0\n",
    "\n",
    "while num <=n:\n",
    "    if num%2 ==0:\n",
    "        sum=sum+num\n",
    "        num=num+1\n",
    "print(\"the sum of all even number/n\",sum)    \n",
    "    "
   ]
  },
  {
   "cell_type": "code",
   "execution_count": 3,
   "id": "5cddc6d0",
   "metadata": {},
   "outputs": [
    {
     "name": "stdout",
     "output_type": "stream",
     "text": [
      "2 is even\n",
      "4 is even\n",
      "6 is even\n",
      "8 is even\n",
      "10 is even\n"
     ]
    }
   ],
   "source": [
    "number = 1\n",
    "sum = 10\n",
    "while number <= sum_n:\n",
    "    if number % 2 == 0:\n",
    "        print(number, \"is even\")\n",
    "    number += 1"
   ]
  },
  {
   "cell_type": "code",
   "execution_count": 22,
   "id": "313cba4d",
   "metadata": {},
   "outputs": [
    {
     "name": "stdout",
     "output_type": "stream",
     "text": [
      "enter the factorial number\n",
      "3\n",
      "sum of all factorial number\n",
      " 3\n"
     ]
    }
   ],
   "source": [
    "n= int(input(\"enter the factorial number\\n\"))\n",
    "num=1\n",
    "factorial=1\n",
    "\n",
    "while num<=n:\n",
    "        factorial=factorial*num\n",
    "        num =num+1\n",
    "print(\"sum of all factorial number\\n\", sum)    \n",
    "            "
   ]
  },
  {
   "cell_type": "code",
   "execution_count": 32,
   "id": "e3a202ae",
   "metadata": {},
   "outputs": [
    {
     "name": "stdout",
     "output_type": "stream",
     "text": [
      "enter a number\n",
      "123\n",
      "to checker a given number is palindrome 321\n"
     ]
    }
   ],
   "source": [
    "n= int (input(\"enter a number\\n\"))\n",
    "reverse_number=0\n",
    "\n",
    "while n>0:\n",
    "     reverse_number= reverse_number*10+n%10\n",
    "     n=n//10\n",
    "print(\"to checker a given number is palindrome\",reverse_number)        "
   ]
  },
  {
   "cell_type": "code",
   "execution_count": 14,
   "id": "74ff7ef6",
   "metadata": {},
   "outputs": [
    {
     "name": "stdout",
     "output_type": "stream",
     "text": [
      "Enter a number n:\n",
      "15\n",
      "the sum of digit postive number is 6\n"
     ]
    }
   ],
   "source": [
    "n=int(input(\"Enter a number n:\\n\"))\n",
    "\n",
    "sum=0\n",
    "\n",
    "while n!=0:\n",
    "    \n",
    "    sum=sum+n%10\n",
    "    n=n//10\n",
    "    \n",
    "print(\"the sum of digit postive number is\",sum)\n"
   ]
  },
  {
   "cell_type": "code",
   "execution_count": 19,
   "id": "4488fbb0",
   "metadata": {},
   "outputs": [
    {
     "name": "stdout",
     "output_type": "stream",
     "text": [
      "enter the number n:\n",
      "1568\n",
      "the largest postive number is 8\n"
     ]
    }
   ],
   "source": [
    "n= int(input(\"enter the number n:\\n\"))\n",
    "\n",
    "largest=0\n",
    "\n",
    "while n>0:\n",
    "    reminder=n%10\n",
    "    if largest<reminder:\n",
    "        largest=reminder\n",
    "    n=n//10\n",
    "        \n",
    "print(\"the largest postive number is\",largest)        \n",
    "             \n",
    "             "
   ]
  },
  {
   "cell_type": "code",
   "execution_count": 23,
   "id": "c35ab9e3",
   "metadata": {},
   "outputs": [
    {
     "name": "stdout",
     "output_type": "stream",
     "text": [
      "Enter the number n:\n",
      "12345\n",
      "To count a no of digits in a given positive number is 5\n"
     ]
    }
   ],
   "source": [
    "n= int (input(\"Enter the number n:\\n\"))\n",
    "\n",
    "count=0\n",
    "\n",
    "while n!=0:\n",
    "    n//= 10\n",
    "    count +=1\n",
    "    \n",
    "print(\"To count a no of digits in a given positive number is\",count)    "
   ]
  },
  {
   "cell_type": "raw",
   "id": "8b7534d5",
   "metadata": {},
   "source": []
  },
  {
   "cell_type": "code",
   "execution_count": 45,
   "id": "0a68e1cb",
   "metadata": {},
   "outputs": [
    {
     "name": "stdout",
     "output_type": "stream",
     "text": [
      "enter the number to factorialised:5\n",
      "the factorial of 5 is: 120\n"
     ]
    }
   ],
   "source": [
    "# using a for loop find the factorial \n",
    "\n",
    "factorial=1\n",
    "num= int (input(\"enter the number to factorialised:\"))\n",
    "\n",
    "for number in range (1,num+1):\n",
    "    factorial=factorial * number\n",
    "    \n",
    "print(\"the factorial of {0} is: {1}\".format(num,factorial))"
   ]
  },
  {
   "cell_type": "code",
   "execution_count": 43,
   "id": "ecca79f5",
   "metadata": {},
   "outputs": [
    {
     "name": "stdout",
     "output_type": "stream",
     "text": [
      "the  number of 0 is: 0\n",
      "the  number of 1 is: 1\n",
      "the  number of 2 is: 4\n",
      "the  number of 3 is: 9\n",
      "the  number of 4 is: 16\n",
      "the  number of 5 is: 25\n"
     ]
    }
   ],
   "source": [
    "# write a python program for squaring a number using for loop.\n",
    "\n",
    "for num in range(6):\n",
    "    squaring= num * num\n",
    "    print(\"the  number of {0} is: {1}\".format(num,squaring))"
   ]
  },
  {
   "cell_type": "code",
   "execution_count": 15,
   "id": "93e6263d",
   "metadata": {},
   "outputs": [
    {
     "name": "stdout",
     "output_type": "stream",
     "text": [
      "0 is even number\n",
      "2 is even number\n",
      "4 is even number\n",
      "6 is even number\n",
      "8 is even number\n",
      "10 is even number\n"
     ]
    }
   ],
   "source": [
    "# using a for loop to find the even numbers in a range function till number 10\n",
    "\n",
    "for num in range(11):\n",
    "    if num%2 ==0:\n",
    "        print(\"{0} is even number\".format(num))"
   ]
  },
  {
   "cell_type": "code",
   "execution_count": 40,
   "id": "b1730159",
   "metadata": {},
   "outputs": [
    {
     "name": "stdout",
     "output_type": "stream",
     "text": [
      "1*10=10\n",
      "2*10=20\n",
      "3*10=30\n",
      "4*10=40\n",
      "5*10=50\n",
      "6*10=60\n",
      "7*10=70\n",
      "8*10=80\n",
      "9*10=90\n",
      "10*10=100\n",
      "11*10=110\n",
      "12*10=120\n",
      "13*10=130\n",
      "14*10=140\n",
      "15*10=150\n"
     ]
    }
   ],
   "source": [
    "# using a for loop display 10th table\n",
    "\n",
    "for num in range(1,16):\n",
    "    table= num * 10\n",
    "    print(\"{0}*10={1}\".format(num,table))"
   ]
  },
  {
   "cell_type": "code",
   "execution_count": 51,
   "id": "84e4cf9a",
   "metadata": {},
   "outputs": [],
   "source": [
    "# using a for loop find the occurence of letter \"o\" in the string \"python is powerful and versatile language\"\n",
    "\n",
    "occurence_letter = \"python is powerful and versatile language\"\n",
    "\n",
    "targeted_letter= 'o'\n",
    "\n",
    "for char in occurence_letter:\n",
    "    if num == targeted_letter:\n",
    "        count=count+1\n",
    "        print(\"the char {0} is appear : {1}\".format(targeted_letter,count))"
   ]
  },
  {
   "cell_type": "code",
   "execution_count": null,
   "id": "7d990553",
   "metadata": {},
   "outputs": [],
   "source": []
  }
 ],
 "metadata": {
  "kernelspec": {
   "display_name": "Python 3 (ipykernel)",
   "language": "python",
   "name": "python3"
  },
  "language_info": {
   "codemirror_mode": {
    "name": "ipython",
    "version": 3
   },
   "file_extension": ".py",
   "mimetype": "text/x-python",
   "name": "python",
   "nbconvert_exporter": "python",
   "pygments_lexer": "ipython3",
   "version": "3.11.5"
  }
 },
 "nbformat": 4,
 "nbformat_minor": 5
}
