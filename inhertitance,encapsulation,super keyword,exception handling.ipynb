{
 "cells": [
  {
   "cell_type": "code",
   "execution_count": 23,
   "id": "a7ba748d-41d6-4fa1-bb92-034f46f4049c",
   "metadata": {},
   "outputs": [
    {
     "name": "stdout",
     "output_type": "stream",
     "text": [
      "the favfood is!\n",
      "the favourtie food Is! pizza carrot\n"
     ]
    }
   ],
   "source": [
    "class foodie():\n",
    "    def __init__(self):\n",
    "        print(\"the favfood is!\")\n",
    "        \n",
    "class son(foodie):\n",
    "    def __init__(self,favfood,sidedish):\n",
    "        super().__init__()\n",
    "        print('the favourtie food Is!',favfood,sidedish)\n",
    "        \n",
    "\n",
    "foodie_= son(\"pizza\",\"carrot\")\n"
   ]
  },
  {
   "cell_type": "code",
   "execution_count": 24,
   "id": "63c9ac3e-1fa0-4196-8b47-a51dda7f6b5b",
   "metadata": {},
   "outputs": [
    {
     "name": "stdout",
     "output_type": "stream",
     "text": [
      "car stared\n"
     ]
    }
   ],
   "source": [
    "class vechile():\n",
    "    def start(self):\n",
    "        print(\"vechile started!\")\n",
    "\n",
    "class car(vechile):\n",
    "    def start(self):\n",
    "        print (\"car stared\")\n",
    "vechile_= car()\n",
    "vechile_.start()"
   ]
  },
  {
   "cell_type": "code",
   "execution_count": 32,
   "id": "028a101c-8eb7-419d-9f88-f77cc78a20a3",
   "metadata": {},
   "outputs": [
    {
     "name": "stdout",
     "output_type": "stream",
     "text": [
      "name:prem salary:100000 department:ai\n"
     ]
    }
   ],
   "source": [
    "class employee():\n",
    "    def __init__(self,name,salary):\n",
    "        self.name=name\n",
    "        self.salary=salary\n",
    "\n",
    "class manager(employee):\n",
    "    def dep(self,department):\n",
    "        self.department=department\n",
    "\n",
    "    def display(self):\n",
    "        print(f'name:{self.name} salary:{self.salary} department:{self.department}')\n",
    "\n",
    "emp= manager(\"prem\",100000)\n",
    "emp.dep('ai')\n",
    "emp.display()\n",
    "    "
   ]
  },
  {
   "cell_type": "code",
   "execution_count": 42,
   "id": "478fb4c2-e55e-4517-b472-3462c839be02",
   "metadata": {},
   "outputs": [
    {
     "name": "stdout",
     "output_type": "stream",
     "text": [
      "monish a\n"
     ]
    }
   ],
   "source": [
    "class person():\n",
    "    def __init__(self,name):\n",
    "        self.name=name\n",
    "\n",
    "class student(person):\n",
    "    def __init__(self,name,grade):\n",
    "        super().__init__(name)\n",
    "        self.grade=grade\n",
    "\n",
    "    def display(self):\n",
    "        print (self.name,self.grade)\n",
    "\n",
    "stud_= student(\"monish\",\"a\")\n",
    "stud_.display()\n",
    "        "
   ]
  },
  {
   "cell_type": "markdown",
   "id": "f810179a-3034-4dbc-80fb-70610b65578d",
   "metadata": {},
   "source": [
    "# encapsulation \n",
    "\n",
    "1.private\n",
    "2.public\n",
    "3.protected\n",
    "\n"
   ]
  },
  {
   "cell_type": "code",
   "execution_count": 46,
   "id": "3cc2f001-9f69-4dbd-92d1-bf058365efe4",
   "metadata": {},
   "outputs": [
    {
     "name": "stdout",
     "output_type": "stream",
     "text": [
      "mutton briyani\n"
     ]
    }
   ],
   "source": [
    "# public \n",
    "\n",
    "class foodie():\n",
    "    def __init__(self):\n",
    "        self.favfood=\"mutton briyani\"\n",
    "\n",
    "mon=foodie()\n",
    "print(mon.favfood)\n",
    "\n",
    "\n",
    "        "
   ]
  },
  {
   "cell_type": "code",
   "execution_count": 45,
   "id": "1212692a-501a-4771-93e6-13c06535845e",
   "metadata": {},
   "outputs": [
    {
     "name": "stdout",
     "output_type": "stream",
     "text": [
      "upma\n"
     ]
    }
   ],
   "source": [
    "mon.favfood='upma'\n",
    "print(mon.favfood)\n"
   ]
  },
  {
   "cell_type": "code",
   "execution_count": 47,
   "id": "b4d6d403-d366-41b0-b3fe-36be6e66929e",
   "metadata": {},
   "outputs": [
    {
     "ename": "AttributeError",
     "evalue": "'foodie' object has no attribute 'favfood'",
     "output_type": "error",
     "traceback": [
      "\u001b[1;31m---------------------------------------------------------------------------\u001b[0m",
      "\u001b[1;31mAttributeError\u001b[0m                            Traceback (most recent call last)",
      "Cell \u001b[1;32mIn[47], line 8\u001b[0m\n\u001b[0;32m      5\u001b[0m         \u001b[38;5;28mself\u001b[39m\u001b[38;5;241m.\u001b[39m__favfood\u001b[38;5;241m=\u001b[39m\u001b[38;5;124m\"\u001b[39m\u001b[38;5;124mmutton briyani\u001b[39m\u001b[38;5;124m\"\u001b[39m\n\u001b[0;32m      7\u001b[0m mon\u001b[38;5;241m=\u001b[39mfoodie()\n\u001b[1;32m----> 8\u001b[0m \u001b[38;5;28mprint\u001b[39m(mon\u001b[38;5;241m.\u001b[39mfavfood)\n",
      "\u001b[1;31mAttributeError\u001b[0m: 'foodie' object has no attribute 'favfood'"
     ]
    }
   ],
   "source": [
    "# private data no accessing data\n",
    "\n",
    "class foodie():\n",
    "    def __init__(self):\n",
    "        self.__favfood=\"mutton briyani\"\n",
    "\n",
    "mon=foodie()\n",
    "print(mon.favfood)\n"
   ]
  },
  {
   "cell_type": "code",
   "execution_count": 54,
   "id": "ddec0175-011d-4e15-ae1f-c0eff7eaa2c1",
   "metadata": {},
   "outputs": [
    {
     "name": "stdout",
     "output_type": "stream",
     "text": [
      "mutton briyani\n"
     ]
    }
   ],
   "source": [
    "# private data can be accessed in class by creating another method inside that same class.\n",
    "\n",
    "class foodie():\n",
    "    def __init__(self):\n",
    "        self.__favfood=\"mutton briyani\"\n",
    "\n",
    "    def fav_food(self):\n",
    "        print(self.__favfood)\n",
    "\n",
    "mon1=foodie()\n",
    "mon1.fav_food()\n",
    "#print(mon1.__favfood)\n"
   ]
  },
  {
   "cell_type": "markdown",
   "id": "0a0eb087-5339-4bf5-8636-f461ff841173",
   "metadata": {},
   "source": [
    "expection handling"
   ]
  },
  {
   "cell_type": "code",
   "execution_count": 60,
   "id": "4063ce8b-4d2e-48cc-8beb-7777ab8fa916",
   "metadata": {},
   "outputs": [
    {
     "name": "stdin",
     "output_type": "stream",
     "text": [
      "enter the number a:! 10\n",
      "enter the number b:! HO\n"
     ]
    },
    {
     "name": "stdout",
     "output_type": "stream",
     "text": [
      "some of error is coming!\n"
     ]
    }
   ],
   "source": [
    "try:\n",
    "    a=int(input(\"enter the number a:!\"))\n",
    "    b=int(input(\"enter the number b:!\"))\n",
    "    print(a+b)\n",
    "\n",
    "except Exception:\n",
    "    print(\"some of error is coming!\")"
   ]
  },
  {
   "cell_type": "code",
   "execution_count": 62,
   "id": "bc3e7cec-fad0-4168-91f1-93252937b501",
   "metadata": {},
   "outputs": [
    {
     "name": "stdin",
     "output_type": "stream",
     "text": [
      "enter the number a:! 10\n",
      "enter the number b:! ji\n"
     ]
    },
    {
     "name": "stdout",
     "output_type": "stream",
     "text": [
      "some of error is coming! invalid literal for int() with base 10: 'ji'\n"
     ]
    }
   ],
   "source": [
    "try:\n",
    "    a=int(input(\"enter the number a:!\"))\n",
    "    b=int(input(\"enter the number b:!\"))\n",
    "    print(a+b)\n",
    "\n",
    "except Exception as e:\n",
    "    print(\"some of error is coming!\",e)"
   ]
  },
  {
   "cell_type": "code",
   "execution_count": null,
   "id": "674d5dd2-e81f-4396-b725-b3186d88e343",
   "metadata": {},
   "outputs": [],
   "source": []
  }
 ],
 "metadata": {
  "kernelspec": {
   "display_name": "Python 3 (ipykernel)",
   "language": "python",
   "name": "python3"
  },
  "language_info": {
   "codemirror_mode": {
    "name": "ipython",
    "version": 3
   },
   "file_extension": ".py",
   "mimetype": "text/x-python",
   "name": "python",
   "nbconvert_exporter": "python",
   "pygments_lexer": "ipython3",
   "version": "3.11.7"
  }
 },
 "nbformat": 4,
 "nbformat_minor": 5
}
