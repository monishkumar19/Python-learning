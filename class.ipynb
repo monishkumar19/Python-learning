{
 "cells": [
  {
   "cell_type": "code",
   "execution_count": 16,
   "id": "a5bc0328-90b5-4cf3-a089-456dfff36dd8",
   "metadata": {},
   "outputs": [
    {
     "name": "stdout",
     "output_type": "stream",
     "text": [
      "addition result 30\n",
      "sub result 10\n",
      "mul result 200\n",
      "div result 2.0\n"
     ]
    }
   ],
   "source": [
    "# create a calculator class. create a two variables a and b. create a method called add, sub, mul and div. all the function \n",
    "# should take 2 variables as parameter. Pass a and b value through object\n",
    "\n",
    "\n",
    "class calculator:\n",
    "\n",
    "    def __init__(self,num1,num2):\n",
    "        \n",
    "        self.a=num1\n",
    "        self.b=num2\n",
    "\n",
    "    def add(self):\n",
    "\n",
    "        return self.a + self.b  \n",
    "\n",
    "    def sub(self):\n",
    "\n",
    "        return self.a - self.b\n",
    "\n",
    "    def mul(self):\n",
    "\n",
    "        return self.a * self.b\n",
    "\n",
    "    def div(self):\n",
    "\n",
    "        return self.a / self.b\n",
    "\n",
    "calculator1=calculator(20,10)\n",
    "\n",
    "calculator1.add()\n",
    "calculator1.sub()\n",
    "calculator1.mul()\n",
    "calculator1.div()\n",
    "\n",
    "print('addition result',calculator1.add())\n",
    "print('sub result',calculator1.sub())\n",
    "print('mul result',calculator1.mul())\n",
    "print('div result', calculator1.div())\n",
    "\n",
    "\n",
    "\n",
    "\n",
    "    \n",
    "\n",
    "    \n",
    "\n",
    "  "
   ]
  },
  {
   "cell_type": "code",
   "execution_count": null,
   "id": "ba19b61f-300d-48a7-b55e-459fb9191c19",
   "metadata": {},
   "outputs": [],
   "source": [
    "# create a class called teacher. create a variable - name and register number using constructor. create a function called\n",
    "# dispaly which should display the name and register number of the teacher. create T1 and T2 objects and pass the name and \n",
    "# register number value through object\n",
    "\n",
    "class teacher:\n",
    "    def __init__(self, name, regno):\n",
    "        self.name = name\n",
    "        self.regno = regno\n",
    "        \n",
    "    def display(self):\n",
    "        print('Name:', self.name)\n",
    "        print('Registration no:', self.regno)\n",
    "        \n",
    "t1 = teacher('Premanand', 12345)\n",
    "t2 = teacher('Anandprem', 98765)\n",
    "\n",
    "t1.display()\n",
    "t2.display()"
   ]
  },
  {
   "cell_type": "code",
   "execution_count": null,
   "id": "1bc2791e-cbfe-4967-921d-9e5fbea1700d",
   "metadata": {},
   "outputs": [],
   "source": [
    "# create a class called laptop and create a following variable and functions. Variables - price, RAM and processor. create a\n",
    "# objects as HP, Asus and DELL.\n",
    "class laptop:\n",
    "    price = 0\n",
    "    processor = ''\n",
    "    RAM = ''\n",
    "    \n",
    "hp = laptop()\n",
    "asus = laptop()\n",
    "dell = laptop()\n",
    "\n",
    "hp.price = 55000\n",
    "hp.processor = 'AMD Ryzen 7 4800H with Radeon Graphics - 2.90 GHz'\n",
    "hp.RAM = '16 GB'\n",
    "\n",
    "asus.price = 75000\n",
    "asus.processor = 'AMD Ryzen 8 5600H with Radeon Graphics - 2.90 GHz'\n",
    "asus.RAM = '32 GB'\n",
    "\n",
    "dell.price = 55000\n",
    "dell.processor = 'AMD Ryzen 7 4800H with Radeon Graphics - 2.90 GHz'\n",
    "dell.RAM = '16 GB'\n",
    "\n",
    "print(hp.price)\n",
    "print(asus.processor)\n",
    "print(dell.RAM)"
   ]
  }
 ],
 "metadata": {
  "kernelspec": {
   "display_name": "Python 3 (ipykernel)",
   "language": "python",
   "name": "python3"
  },
  "language_info": {
   "codemirror_mode": {
    "name": "ipython",
    "version": 3
   },
   "file_extension": ".py",
   "mimetype": "text/x-python",
   "name": "python",
   "nbconvert_exporter": "python",
   "pygments_lexer": "ipython3",
   "version": "3.11.7"
  }
 },
 "nbformat": 4,
 "nbformat_minor": 5
}
